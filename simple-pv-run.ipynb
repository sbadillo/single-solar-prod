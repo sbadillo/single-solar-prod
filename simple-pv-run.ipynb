{
 "metadata": {
  "language_info": {
   "codemirror_mode": {
    "name": "ipython",
    "version": 3
   },
   "file_extension": ".py",
   "mimetype": "text/x-python",
   "name": "python",
   "nbconvert_exporter": "python",
   "pygments_lexer": "ipython3",
   "version": 3
  },
  "orig_nbformat": 2
 },
 "nbformat": 4,
 "nbformat_minor": 2,
 "cells": [
  {
   "source": [
    "# Simple PV production estimation using PV Lib\n",
    "\n",
    "We will use the PVLib "
   ],
   "cell_type": "markdown",
   "metadata": {}
  }
 ]
}