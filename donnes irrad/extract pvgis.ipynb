{
 "cells": [
  {
   "cell_type": "markdown",
   "metadata": {},
   "source": [
    "## Extraction des tables d'irradiation via PVGIS, by departement in France.\n",
    "\n",
    "We will create irradiance tables for each department in France with the help of PVGIS TMY service.\n",
    "The geographical center of each department is stored in centres_geo.csv file.\n",
    "\n",
    "We will export one csv file for each department in the irrad_tmy_base folder. \n",
    "Each file contains the irradiance components : global, direct and diffuse irradiance.\n",
    "\n",
    "- sergiob"
   ]
  },
  {
   "cell_type": "code",
   "execution_count": 1,
   "metadata": {},
   "outputs": [],
   "source": [
    "import pandas as pd\n",
    "import numpy as np\n",
    "from tqdm import tqdm"
   ]
  },
  {
   "cell_type": "code",
   "execution_count": 2,
   "metadata": {},
   "outputs": [],
   "source": [
    "df = pd.read_csv(\"centres_geo.csv\", \";\")\n",
    "\n",
    "# add leading zero to deps, drop non numeric codes like 2a or 2b\n",
    "df = df[df[\"code\"].apply(lambda x: x.isnumeric())]\n",
    "df[\"code\"] = pd.to_numeric(df['code'])\n",
    "df['code'] = df['code'].apply(lambda x: '{0:0>2}'.format(x))\n",
    "\n",
    "# tranform sexagesimal coords to decimal\n",
    "def conversion(old):\n",
    "    direction = {'N':1, 'S':-1, 'E': 1, 'O':-1}\n",
    "    new = old.replace(u'°',' ').replace('\\'',' ').replace('\"',' ').replace('′',' ').replace('″',' ')\n",
    "    new = new.split()\n",
    "    new_dir = new.pop()\n",
    "    new.extend([0,0,0])\n",
    "    return (int(new[0])+int(new[1])/60.0+int(new[2])/3600.0) * direction[new_dir]\n",
    "\n",
    "df[\"lat\"] = df[\"gps sixagesimal\"].str.split(', ',  expand=True)[0]\n",
    "df[\"lon\"] = df[\"gps sixagesimal\"].str.split(', ',  expand=True)[1]\n",
    "df[\"lat\"] = df[\"lat\"].apply(lambda x : conversion(x))\n",
    "df[\"lon\"] = df[\"lon\"].apply(lambda x : conversion(x))\n",
    "\n",
    "df.drop([\"gps sixagesimal\"], axis=1,  inplace=True)\n",
    "df.drop([\"label\"], axis=1,  inplace=True)"
   ]
  },
  {
   "cell_type": "code",
   "execution_count": 3,
   "metadata": {},
   "outputs": [
    {
     "output_type": "execute_result",
     "data": {
      "text/plain": [
       "  code        lat       lon\n",
       "0   01  46.099444  5.348889\n",
       "1   02  49.559444  3.558333\n",
       "2   03  46.393611  3.188333\n",
       "3   04  44.106111  6.243889\n",
       "4   05  44.663611  6.263056"
      ],
      "text/html": "<div>\n<style scoped>\n    .dataframe tbody tr th:only-of-type {\n        vertical-align: middle;\n    }\n\n    .dataframe tbody tr th {\n        vertical-align: top;\n    }\n\n    .dataframe thead th {\n        text-align: right;\n    }\n</style>\n<table border=\"1\" class=\"dataframe\">\n  <thead>\n    <tr style=\"text-align: right;\">\n      <th></th>\n      <th>code</th>\n      <th>lat</th>\n      <th>lon</th>\n    </tr>\n  </thead>\n  <tbody>\n    <tr>\n      <th>0</th>\n      <td>01</td>\n      <td>46.099444</td>\n      <td>5.348889</td>\n    </tr>\n    <tr>\n      <th>1</th>\n      <td>02</td>\n      <td>49.559444</td>\n      <td>3.558333</td>\n    </tr>\n    <tr>\n      <th>2</th>\n      <td>03</td>\n      <td>46.393611</td>\n      <td>3.188333</td>\n    </tr>\n    <tr>\n      <th>3</th>\n      <td>04</td>\n      <td>44.106111</td>\n      <td>6.243889</td>\n    </tr>\n    <tr>\n      <th>4</th>\n      <td>05</td>\n      <td>44.663611</td>\n      <td>6.263056</td>\n    </tr>\n  </tbody>\n</table>\n</div>"
     },
     "metadata": {},
     "execution_count": 3
    }
   ],
   "source": [
    "df.head()"
   ]
  },
  {
   "cell_type": "code",
   "execution_count": 4,
   "metadata": {},
   "outputs": [],
   "source": [
    "import requests\n",
    "from requests.exceptions import HTTPError\n",
    "import time\n",
    "\n",
    "def get_TMY_file(lat,lon):\n",
    "        \"\"\"Uses PVGIS webservice to create a Typical Meteorological Year (TMY)\n",
    "         file using the PVSystem coordinates.\n",
    "        more about TMY files\n",
    "        https://ec.europa.eu/jrc/en/PVGIS/tools/tmy\n",
    "        Return\n",
    "        ------\n",
    "        A dataframe instance consisting of 1 year (or several years) of hourly\n",
    "        data,  with the following columns:\n",
    "            \"time_pvgis\" : UTC for normal CSV, local timezone time\n",
    "            \"GHI\" : Global horizontal irradiance G(h) in [W/m2].\n",
    "            \"DNI\" : Direct (beam) irradiance Gb(n) in [W/m2].\n",
    "            \"DHI\" : Diffuse horizontal irradiance Gd(h) in [W/m2].\n",
    "        \"\"\"\n",
    "\n",
    "        url = \"https://re.jrc.ec.europa.eu/api/tmy\"\n",
    "\n",
    "        params = {\n",
    "            \"lat\": lat,\n",
    "            \"lon\": lon,\n",
    "            \"startyear\": 2006,\n",
    "            \"endyear\": 2015,\n",
    "            \"outputformat\": \"json\",  # csv, json, epw\n",
    "        }\n",
    "\n",
    "        start = time.time()\n",
    "\n",
    "        try:\n",
    "            r = requests.get(url, params=params)\n",
    "\n",
    "            # If respons successful, no Exception will be raised\n",
    "            r.raise_for_status()\n",
    "\n",
    "        except HTTPError as http_err:\n",
    "            print(f\"HTTP error occurred: {http_err}\")\n",
    "\n",
    "        except Exception as err:\n",
    "            print(f\"Other error occurred: {err}\")\n",
    "\n",
    "        else:\n",
    "#             print(\"get_TMY_file: done in {:.2f} seconds.\".format(time.time() - start))\n",
    "\n",
    "            tmy_json = r.json()\n",
    "            df_r = pd.DataFrame.from_dict(data=tmy_json[\"outputs\"][\"tmy_hourly\"])\n",
    "            \n",
    "            df_tmy = df_r[[ \"G(h)\", \"Gb(n)\", \"Gd(h)\"]]\n",
    "            df_tmy.columns = [\"GHI\", \"DNI\", \"DHI\"]\n",
    "            df_tmy.set_index(df_r[\"time(UTC)\"], inplace=True)\n",
    "\n",
    "            return df_tmy"
   ]
  },
  {
   "cell_type": "code",
   "execution_count": 5,
   "metadata": {},
   "outputs": [
    {
     "output_type": "stream",
     "name": "stderr",
     "text": [
      "100%|██████████| 94/94 [04:22<00:00,  2.79s/it]Wall time: 4min 22s\n",
      "\n"
     ]
    }
   ],
   "source": [
    "%%time\n",
    "for i, row in tqdm(df.iterrows(), total=df.shape[0]):\n",
    "    code_dep = row[\"code\"]\n",
    "    lat, lon = row[[\"lat\", \"lon\"]]    \n",
    "    df = get_TMY_file(lat,lon)\n",
    "    df.to_csv(\"./irrad_tmy_base/{}_irrad_tmy.csv\".format(code_dep))"
   ]
  },
  {
   "cell_type": "code",
   "execution_count": null,
   "metadata": {},
   "outputs": [],
   "source": []
  }
 ],
 "metadata": {
  "kernelspec": {
   "display_name": "Python 3",
   "language": "python",
   "name": "python3"
  },
  "language_info": {
   "codemirror_mode": {
    "name": "ipython",
    "version": 3
   },
   "file_extension": ".py",
   "mimetype": "text/x-python",
   "name": "python",
   "nbconvert_exporter": "python",
   "pygments_lexer": "ipython3",
   "version": "3.8.5-final"
  }
 },
 "nbformat": 4,
 "nbformat_minor": 4
}